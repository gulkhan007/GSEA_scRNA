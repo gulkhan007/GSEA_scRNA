{
 "cells": [
  {
   "cell_type": "code",
   "execution_count": null,
   "id": "f4a6b04d-e08a-4b8a-9a0a-2b6bb86dd930",
   "metadata": {},
   "outputs": [],
   "source": []
  },
  {
   "cell_type": "code",
   "execution_count": null,
   "id": "855d3433-df29-49f1-b8b3-0ea1cfbadbe9",
   "metadata": {},
   "outputs": [],
   "source": []
  },
  {
   "cell_type": "code",
   "execution_count": 5,
   "id": "59a67ba8-bdff-49ad-8a62-5c838c6d9a21",
   "metadata": {},
   "outputs": [
    {
     "name": "stdout",
     "output_type": "stream",
     "text": [
      "The autoreload extension is already loaded. To reload it, use:\n",
      "  %reload_ext autoreload\n"
     ]
    }
   ],
   "source": [
    "%load_ext autoreload\n",
    "%autoreload 2\n",
    "import pandas as pd\n",
    "import gseapy as gp\n",
    "import matplotlib.pyplot as plt\n",
    "import os \n",
    "import openpyxl\n",
    "import numpy as np\n",
    "from gseapy import barplot, dotplot\n",
    "import numpy as np\n",
    "import seaborn as sns\n",
    "import matplotlib.pyplot as plt\n",
    "import glob\n",
    "gset={\"data/msigdb.v2023.1.Mm.symbols.gmt\"} "
   ]
  },
  {
   "cell_type": "code",
   "execution_count": 6,
   "id": "7f4eaaec-4a96-4744-a011-c0edc459cca1",
   "metadata": {},
   "outputs": [
    {
     "name": "stdout",
     "output_type": "stream",
     "text": [
      "Name: gseapy\n",
      "Version: 1.1.4\n",
      "Summary: Gene Set Enrichment Analysis in Python\n",
      "Home-page: https://github.com/zqfang/gseapy\n",
      "Author: Zhuoqing Fang\n",
      "Author-email: fzq518@gmail.com\n",
      "License: MIT\n",
      "Location: /research/rgs01/home/clusterHome/rmehmood/.local/lib/python3.10/site-packages\n",
      "Requires: matplotlib, numpy, pandas, requests, scipy\n",
      "Required-by: \n",
      "Note: you may need to restart the kernel to use updated packages.\n"
     ]
    }
   ],
   "source": [
    "pip show gseapy"
   ]
  },
  {
   "cell_type": "code",
   "execution_count": null,
   "id": "d24cdd00-a643-4d46-a1ec-3d87b20f5e94",
   "metadata": {},
   "outputs": [],
   "source": []
  },
  {
   "cell_type": "code",
   "execution_count": 7,
   "id": "d1128725-022e-422a-b8ad-2c6889161095",
   "metadata": {},
   "outputs": [],
   "source": [
    "def sheet_info2(filename, outdir):\n",
    "    # Open the Excel file\n",
    "    xls = pd.ExcelFile(filename)\n",
    "    # Get the names of all sheets in the Excel file\n",
    "    sheet_names = xls.sheet_names\n",
    "    \n",
    "    # Iterate over each sheet in the Excel file\n",
    "    for sheet_name in sheet_names:\n",
    "        # Read the current sheet into a DataFrame, using the 'gene' column as the index\n",
    "        df = pd.read_excel(xls, sheet_name, index_col='gene')\n",
    "        \n",
    "        # Print the DataFrame for inspection\n",
    "        print(df)\n",
    "        # Print the sheet name and the number of rows (genes) in the DataFrame\n",
    "        print(f\"{sheet_name} : {df.shape[0]}\")\n",
    "        print(df)\n",
    "        \n",
    "        # Copy the DataFrame to a temporary variable for further processing\n",
    "        tmp = df\n",
    "        \n",
    "        # Sort the DataFrame by the 'avg_log2FC' column in descending order\n",
    "        tmp = tmp.sort_values('avg_log2FC', ascending=False)\n",
    "        \n",
    "        # Extract the ranking information: a DataFrame with only the 'avg_log2FC' column\n",
    "        rnk = tmp.loc[:, ['avg_log2FC']]\n",
    "        \n",
    "        # Check if there are at least 10 genes to perform GSEA; if not, skip this sheet\n",
    "        if rnk.shape[0] < 10:\n",
    "            print(f\"found few genes so skip GSEA: {sheet_name}\")\n",
    "        else:\n",
    "            # Create the output directory if it does not exist using a shell command (works in Jupyter/IPython)\n",
    "            !mkdir -p $outdir\n",
    "            \n",
    "            # Save the ranking information to a CSV file\n",
    "            rnk.to_csv(f\"{outdir}/{sheet_name}_rank_{rnk.shape[0]}.csv\")\n",
    "            \n",
    "            # Run Gene Set Enrichment Analysis (GSEA) using the prerank method from the 'gp' package.\n",
    "            # Ensure that 'gset' is defined and contains the gene sets.\n",
    "            pre_res = gp.prerank(rnk=rnk,                # Ranking file with avg_log2FC values\n",
    "                         gene_sets=list(gset),           # List of gene sets to test against\n",
    "                         threads=4,                      # Number of threads to use\n",
    "                         min_size=5,                     # Minimum gene set size to consider\n",
    "                         max_size=1000,                  # Maximum gene set size to consider\n",
    "                         permutation_num=1000,           # Number of permutations (adjust to speed up testing)\n",
    "                         outdir=None,                    # Do not write results to disk automatically\n",
    "                         seed=6,                         # Random seed for reproducibility\n",
    "                         verbose=True,                   # Verbose output to track progress\n",
    "                        )\n",
    "            \n",
    "            # Save the detailed GSEA results (res2d) to a CSV file in the output directory\n",
    "            pd.DataFrame(pre_res.res2d).to_csv(f\"{outdir}/GSEA_res2d_out_{sheet_name}.csv\")\n",
    "            \n",
    "            print(\"Done work-----------\")\n",
    "            \n",
    "            # Create a subdirectory for the current sheet's plots\n",
    "            ofolder = outdir + f\"/{sheet_name}\"\n",
    "            !mkdir -p $ofolder\n",
    "            \n",
    "            # For each term in the GSEA results with an FDR q-value < 0.05, generate a plot\n",
    "            for t in pre_res.res2d[pre_res.res2d[\"FDR q-val\"] < 0.05].Term:\n",
    "                # Generate the enrichment plot for the current term\n",
    "                axs = pre_res.plot(terms=t)\n",
    "                # Set the figure size for the plot\n",
    "                plt.gcf().set_size_inches(10, 7)\n",
    "                # Save the plot as a PDF file. The term is split using \"__\" and the second part is used in the filename.\n",
    "                plt.savefig(f'{ofolder}/{t.split(\"__\")[1]}_plot.pdf', format='pdf')\n",
    "                # Close the plot to free up memory\n",
    "                plt.close()\n"
   ]
  },
  {
   "cell_type": "code",
   "execution_count": null,
   "id": "59e8aea1-c8ec-483f-872e-26d621d748fe",
   "metadata": {},
   "outputs": [],
   "source": [
    "p53=\"WT_vs_Muttant_avglfc_0.001minPCT_0.05.xlsx\"\n",
    "result = sheet_info2(filename=p53,outdir=f'GSEA_{p53.split(\".xl\")[0]}/')"
   ]
  },
  {
   "cell_type": "code",
   "execution_count": null,
   "id": "7d7b2d1c-1d4d-42be-b4e8-64d0c7e5beb9",
   "metadata": {},
   "outputs": [],
   "source": []
  },
  {
   "cell_type": "code",
   "execution_count": null,
   "id": "8963d25b-4b35-46c6-93f5-a3f17e0d3986",
   "metadata": {},
   "outputs": [],
   "source": []
  },
  {
   "cell_type": "markdown",
   "id": "4e352116-b53e-438f-8056-fde49d269540",
   "metadata": {},
   "source": [
    "<h1> Read me </h1>"
   ]
  },
  {
   "cell_type": "markdown",
   "id": "27e0ea8b-2cab-40fa-8162-352da9b584b5",
   "metadata": {},
   "source": [
    "This script processes the output from Seurat's findMarkers function—where each cell type's results are stored in separate Excel tabs—and generates the corresponding Gene Set Enrichment Analysis (GSEA"
   ]
  },
  {
   "cell_type": "code",
   "execution_count": null,
   "id": "b6bebfc6-f7a1-44c2-9018-3e2d9dbed4d1",
   "metadata": {},
   "outputs": [],
   "source": []
  }
 ],
 "metadata": {
  "kernelspec": {
   "display_name": "Python 3 (ipykernel)",
   "language": "python",
   "name": "python3"
  },
  "language_info": {
   "codemirror_mode": {
    "name": "ipython",
    "version": 3
   },
   "file_extension": ".py",
   "mimetype": "text/x-python",
   "name": "python",
   "nbconvert_exporter": "python",
   "pygments_lexer": "ipython3",
   "version": "3.10.9"
  }
 },
 "nbformat": 4,
 "nbformat_minor": 5
}
